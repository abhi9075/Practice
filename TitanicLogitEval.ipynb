{
 "cells": [
  {
   "cell_type": "code",
   "execution_count": 1,
   "id": "732f9543",
   "metadata": {},
   "outputs": [],
   "source": [
    "#Import our standard libraries\n",
    "import numpy as np\n",
    "import pandas as pd\n",
    "import matplotlib.pyplot as plt\n",
    "import seaborn as sns"
   ]
  },
  {
   "cell_type": "code",
   "execution_count": 2,
   "id": "a188c42b",
   "metadata": {},
   "outputs": [],
   "source": [
    "#suppress warnings\n",
    "import warnings\n",
    "warnings.filterwarnings('ignore')"
   ]
  },
  {
   "cell_type": "code",
   "execution_count": 3,
   "id": "b0c62510",
   "metadata": {},
   "outputs": [],
   "source": [
    "#Load Clearned Dataset\n",
    "fname = \"titanic_cleaned.csv\"\n",
    "df = pd.read_csv(fname) "
   ]
  },
  {
   "cell_type": "code",
   "execution_count": 4,
   "id": "2bd6d2b0",
   "metadata": {},
   "outputs": [
    {
     "data": {
      "text/plain": [
       "(891, 16)"
      ]
     },
     "execution_count": 4,
     "metadata": {},
     "output_type": "execute_result"
    }
   ],
   "source": [
    "df.shape"
   ]
  },
  {
   "cell_type": "code",
   "execution_count": 5,
   "id": "63a141f3",
   "metadata": {},
   "outputs": [
    {
     "data": {
      "text/plain": [
       "Unnamed: 0       0\n",
       "PassengerId      0\n",
       "Survived         0\n",
       "Pclass           0\n",
       "Name             0\n",
       "Sex              0\n",
       "Age              0\n",
       "SibSp            0\n",
       "Parch            0\n",
       "Ticket           0\n",
       "Fare             0\n",
       "Cabin          687\n",
       "Embarked         0\n",
       "Cabin_ind        0\n",
       "New_fare         0\n",
       "Family_Cnt       0\n",
       "dtype: int64"
      ]
     },
     "execution_count": 5,
     "metadata": {},
     "output_type": "execute_result"
    }
   ],
   "source": [
    "df.isnull().sum()"
   ]
  },
  {
   "cell_type": "code",
   "execution_count": 6,
   "id": "b8e2db76",
   "metadata": {},
   "outputs": [
    {
     "data": {
      "text/html": [
       "<div>\n",
       "<style scoped>\n",
       "    .dataframe tbody tr th:only-of-type {\n",
       "        vertical-align: middle;\n",
       "    }\n",
       "\n",
       "    .dataframe tbody tr th {\n",
       "        vertical-align: top;\n",
       "    }\n",
       "\n",
       "    .dataframe thead th {\n",
       "        text-align: right;\n",
       "    }\n",
       "</style>\n",
       "<table border=\"1\" class=\"dataframe\">\n",
       "  <thead>\n",
       "    <tr style=\"text-align: right;\">\n",
       "      <th></th>\n",
       "      <th>Unnamed: 0</th>\n",
       "      <th>PassengerId</th>\n",
       "      <th>Survived</th>\n",
       "      <th>Pclass</th>\n",
       "      <th>Name</th>\n",
       "      <th>Sex</th>\n",
       "      <th>Age</th>\n",
       "      <th>SibSp</th>\n",
       "      <th>Parch</th>\n",
       "      <th>Ticket</th>\n",
       "      <th>Fare</th>\n",
       "      <th>Cabin</th>\n",
       "      <th>Embarked</th>\n",
       "      <th>Cabin_ind</th>\n",
       "      <th>New_fare</th>\n",
       "      <th>Family_Cnt</th>\n",
       "    </tr>\n",
       "  </thead>\n",
       "  <tbody>\n",
       "    <tr>\n",
       "      <th>0</th>\n",
       "      <td>0</td>\n",
       "      <td>1</td>\n",
       "      <td>0</td>\n",
       "      <td>3</td>\n",
       "      <td>Braund, Mr. Owen Harris</td>\n",
       "      <td>male</td>\n",
       "      <td>22.0</td>\n",
       "      <td>1</td>\n",
       "      <td>0</td>\n",
       "      <td>A/5 21171</td>\n",
       "      <td>7.2500</td>\n",
       "      <td>NaN</td>\n",
       "      <td>S</td>\n",
       "      <td>0</td>\n",
       "      <td>7.2500</td>\n",
       "      <td>1</td>\n",
       "    </tr>\n",
       "    <tr>\n",
       "      <th>1</th>\n",
       "      <td>1</td>\n",
       "      <td>2</td>\n",
       "      <td>1</td>\n",
       "      <td>1</td>\n",
       "      <td>Cumings, Mrs. John Bradley (Florence Briggs Th...</td>\n",
       "      <td>female</td>\n",
       "      <td>38.0</td>\n",
       "      <td>1</td>\n",
       "      <td>0</td>\n",
       "      <td>PC 17599</td>\n",
       "      <td>71.2833</td>\n",
       "      <td>C85</td>\n",
       "      <td>C</td>\n",
       "      <td>1</td>\n",
       "      <td>71.2833</td>\n",
       "      <td>1</td>\n",
       "    </tr>\n",
       "    <tr>\n",
       "      <th>2</th>\n",
       "      <td>2</td>\n",
       "      <td>3</td>\n",
       "      <td>1</td>\n",
       "      <td>3</td>\n",
       "      <td>Heikkinen, Miss. Laina</td>\n",
       "      <td>female</td>\n",
       "      <td>26.0</td>\n",
       "      <td>0</td>\n",
       "      <td>0</td>\n",
       "      <td>STON/O2. 3101282</td>\n",
       "      <td>7.9250</td>\n",
       "      <td>NaN</td>\n",
       "      <td>S</td>\n",
       "      <td>0</td>\n",
       "      <td>7.9250</td>\n",
       "      <td>0</td>\n",
       "    </tr>\n",
       "    <tr>\n",
       "      <th>3</th>\n",
       "      <td>3</td>\n",
       "      <td>4</td>\n",
       "      <td>1</td>\n",
       "      <td>1</td>\n",
       "      <td>Futrelle, Mrs. Jacques Heath (Lily May Peel)</td>\n",
       "      <td>female</td>\n",
       "      <td>35.0</td>\n",
       "      <td>1</td>\n",
       "      <td>0</td>\n",
       "      <td>113803</td>\n",
       "      <td>53.1000</td>\n",
       "      <td>C123</td>\n",
       "      <td>S</td>\n",
       "      <td>1</td>\n",
       "      <td>53.1000</td>\n",
       "      <td>1</td>\n",
       "    </tr>\n",
       "    <tr>\n",
       "      <th>4</th>\n",
       "      <td>4</td>\n",
       "      <td>5</td>\n",
       "      <td>0</td>\n",
       "      <td>3</td>\n",
       "      <td>Allen, Mr. William Henry</td>\n",
       "      <td>male</td>\n",
       "      <td>35.0</td>\n",
       "      <td>0</td>\n",
       "      <td>0</td>\n",
       "      <td>373450</td>\n",
       "      <td>8.0500</td>\n",
       "      <td>NaN</td>\n",
       "      <td>S</td>\n",
       "      <td>0</td>\n",
       "      <td>8.0500</td>\n",
       "      <td>0</td>\n",
       "    </tr>\n",
       "  </tbody>\n",
       "</table>\n",
       "</div>"
      ],
      "text/plain": [
       "   Unnamed: 0  PassengerId  Survived  Pclass  \\\n",
       "0           0            1         0       3   \n",
       "1           1            2         1       1   \n",
       "2           2            3         1       3   \n",
       "3           3            4         1       1   \n",
       "4           4            5         0       3   \n",
       "\n",
       "                                                Name     Sex   Age  SibSp  \\\n",
       "0                            Braund, Mr. Owen Harris    male  22.0      1   \n",
       "1  Cumings, Mrs. John Bradley (Florence Briggs Th...  female  38.0      1   \n",
       "2                             Heikkinen, Miss. Laina  female  26.0      0   \n",
       "3       Futrelle, Mrs. Jacques Heath (Lily May Peel)  female  35.0      1   \n",
       "4                           Allen, Mr. William Henry    male  35.0      0   \n",
       "\n",
       "   Parch            Ticket     Fare Cabin Embarked  Cabin_ind  New_fare  \\\n",
       "0      0         A/5 21171   7.2500   NaN        S          0    7.2500   \n",
       "1      0          PC 17599  71.2833   C85        C          1   71.2833   \n",
       "2      0  STON/O2. 3101282   7.9250   NaN        S          0    7.9250   \n",
       "3      0            113803  53.1000  C123        S          1   53.1000   \n",
       "4      0            373450   8.0500   NaN        S          0    8.0500   \n",
       "\n",
       "   Family_Cnt  \n",
       "0           1  \n",
       "1           1  \n",
       "2           0  \n",
       "3           1  \n",
       "4           0  "
      ]
     },
     "execution_count": 6,
     "metadata": {},
     "output_type": "execute_result"
    }
   ],
   "source": [
    "df.head()"
   ]
  },
  {
   "cell_type": "code",
   "execution_count": 7,
   "id": "151aa584",
   "metadata": {},
   "outputs": [
    {
     "data": {
      "text/html": [
       "<div>\n",
       "<style scoped>\n",
       "    .dataframe tbody tr th:only-of-type {\n",
       "        vertical-align: middle;\n",
       "    }\n",
       "\n",
       "    .dataframe tbody tr th {\n",
       "        vertical-align: top;\n",
       "    }\n",
       "\n",
       "    .dataframe thead th {\n",
       "        text-align: right;\n",
       "    }\n",
       "</style>\n",
       "<table border=\"1\" class=\"dataframe\">\n",
       "  <thead>\n",
       "    <tr style=\"text-align: right;\">\n",
       "      <th></th>\n",
       "      <th>Unnamed: 0</th>\n",
       "      <th>PassengerId</th>\n",
       "      <th>Survived</th>\n",
       "      <th>Pclass</th>\n",
       "      <th>Age</th>\n",
       "      <th>SibSp</th>\n",
       "      <th>Parch</th>\n",
       "      <th>Fare</th>\n",
       "      <th>Cabin_ind</th>\n",
       "      <th>New_fare</th>\n",
       "      <th>Family_Cnt</th>\n",
       "    </tr>\n",
       "  </thead>\n",
       "  <tbody>\n",
       "    <tr>\n",
       "      <th>Unnamed: 0</th>\n",
       "      <td>1.00</td>\n",
       "      <td>1.00</td>\n",
       "      <td>-0.01</td>\n",
       "      <td>-0.04</td>\n",
       "      <td>0.03</td>\n",
       "      <td>-0.06</td>\n",
       "      <td>-0.00</td>\n",
       "      <td>0.01</td>\n",
       "      <td>0.02</td>\n",
       "      <td>0.01</td>\n",
       "      <td>-0.04</td>\n",
       "    </tr>\n",
       "    <tr>\n",
       "      <th>PassengerId</th>\n",
       "      <td>1.00</td>\n",
       "      <td>1.00</td>\n",
       "      <td>-0.01</td>\n",
       "      <td>-0.04</td>\n",
       "      <td>0.03</td>\n",
       "      <td>-0.06</td>\n",
       "      <td>-0.00</td>\n",
       "      <td>0.01</td>\n",
       "      <td>0.02</td>\n",
       "      <td>0.01</td>\n",
       "      <td>-0.04</td>\n",
       "    </tr>\n",
       "    <tr>\n",
       "      <th>Survived</th>\n",
       "      <td>-0.01</td>\n",
       "      <td>-0.01</td>\n",
       "      <td>1.00</td>\n",
       "      <td>-0.34</td>\n",
       "      <td>-0.07</td>\n",
       "      <td>-0.04</td>\n",
       "      <td>0.08</td>\n",
       "      <td>0.26</td>\n",
       "      <td>0.32</td>\n",
       "      <td>0.31</td>\n",
       "      <td>0.02</td>\n",
       "    </tr>\n",
       "    <tr>\n",
       "      <th>Pclass</th>\n",
       "      <td>-0.04</td>\n",
       "      <td>-0.04</td>\n",
       "      <td>-0.34</td>\n",
       "      <td>1.00</td>\n",
       "      <td>-0.33</td>\n",
       "      <td>0.08</td>\n",
       "      <td>0.02</td>\n",
       "      <td>-0.55</td>\n",
       "      <td>-0.73</td>\n",
       "      <td>-0.70</td>\n",
       "      <td>0.07</td>\n",
       "    </tr>\n",
       "    <tr>\n",
       "      <th>Age</th>\n",
       "      <td>0.03</td>\n",
       "      <td>0.03</td>\n",
       "      <td>-0.07</td>\n",
       "      <td>-0.33</td>\n",
       "      <td>1.00</td>\n",
       "      <td>-0.23</td>\n",
       "      <td>-0.18</td>\n",
       "      <td>0.09</td>\n",
       "      <td>0.23</td>\n",
       "      <td>0.13</td>\n",
       "      <td>-0.25</td>\n",
       "    </tr>\n",
       "    <tr>\n",
       "      <th>SibSp</th>\n",
       "      <td>-0.06</td>\n",
       "      <td>-0.06</td>\n",
       "      <td>-0.04</td>\n",
       "      <td>0.08</td>\n",
       "      <td>-0.23</td>\n",
       "      <td>1.00</td>\n",
       "      <td>0.41</td>\n",
       "      <td>0.16</td>\n",
       "      <td>-0.04</td>\n",
       "      <td>0.25</td>\n",
       "      <td>0.89</td>\n",
       "    </tr>\n",
       "    <tr>\n",
       "      <th>Parch</th>\n",
       "      <td>-0.00</td>\n",
       "      <td>-0.00</td>\n",
       "      <td>0.08</td>\n",
       "      <td>0.02</td>\n",
       "      <td>-0.18</td>\n",
       "      <td>0.41</td>\n",
       "      <td>1.00</td>\n",
       "      <td>0.22</td>\n",
       "      <td>0.04</td>\n",
       "      <td>0.26</td>\n",
       "      <td>0.78</td>\n",
       "    </tr>\n",
       "    <tr>\n",
       "      <th>Fare</th>\n",
       "      <td>0.01</td>\n",
       "      <td>0.01</td>\n",
       "      <td>0.26</td>\n",
       "      <td>-0.55</td>\n",
       "      <td>0.09</td>\n",
       "      <td>0.16</td>\n",
       "      <td>0.22</td>\n",
       "      <td>1.00</td>\n",
       "      <td>0.48</td>\n",
       "      <td>0.85</td>\n",
       "      <td>0.22</td>\n",
       "    </tr>\n",
       "    <tr>\n",
       "      <th>Cabin_ind</th>\n",
       "      <td>0.02</td>\n",
       "      <td>0.02</td>\n",
       "      <td>0.32</td>\n",
       "      <td>-0.73</td>\n",
       "      <td>0.23</td>\n",
       "      <td>-0.04</td>\n",
       "      <td>0.04</td>\n",
       "      <td>0.48</td>\n",
       "      <td>1.00</td>\n",
       "      <td>0.61</td>\n",
       "      <td>-0.01</td>\n",
       "    </tr>\n",
       "    <tr>\n",
       "      <th>New_fare</th>\n",
       "      <td>0.01</td>\n",
       "      <td>0.01</td>\n",
       "      <td>0.31</td>\n",
       "      <td>-0.70</td>\n",
       "      <td>0.13</td>\n",
       "      <td>0.25</td>\n",
       "      <td>0.26</td>\n",
       "      <td>0.85</td>\n",
       "      <td>0.61</td>\n",
       "      <td>1.00</td>\n",
       "      <td>0.30</td>\n",
       "    </tr>\n",
       "    <tr>\n",
       "      <th>Family_Cnt</th>\n",
       "      <td>-0.04</td>\n",
       "      <td>-0.04</td>\n",
       "      <td>0.02</td>\n",
       "      <td>0.07</td>\n",
       "      <td>-0.25</td>\n",
       "      <td>0.89</td>\n",
       "      <td>0.78</td>\n",
       "      <td>0.22</td>\n",
       "      <td>-0.01</td>\n",
       "      <td>0.30</td>\n",
       "      <td>1.00</td>\n",
       "    </tr>\n",
       "  </tbody>\n",
       "</table>\n",
       "</div>"
      ],
      "text/plain": [
       "             Unnamed: 0  PassengerId  Survived  Pclass   Age  SibSp  Parch  \\\n",
       "Unnamed: 0         1.00         1.00     -0.01   -0.04  0.03  -0.06  -0.00   \n",
       "PassengerId        1.00         1.00     -0.01   -0.04  0.03  -0.06  -0.00   \n",
       "Survived          -0.01        -0.01      1.00   -0.34 -0.07  -0.04   0.08   \n",
       "Pclass            -0.04        -0.04     -0.34    1.00 -0.33   0.08   0.02   \n",
       "Age                0.03         0.03     -0.07   -0.33  1.00  -0.23  -0.18   \n",
       "SibSp             -0.06        -0.06     -0.04    0.08 -0.23   1.00   0.41   \n",
       "Parch             -0.00        -0.00      0.08    0.02 -0.18   0.41   1.00   \n",
       "Fare               0.01         0.01      0.26   -0.55  0.09   0.16   0.22   \n",
       "Cabin_ind          0.02         0.02      0.32   -0.73  0.23  -0.04   0.04   \n",
       "New_fare           0.01         0.01      0.31   -0.70  0.13   0.25   0.26   \n",
       "Family_Cnt        -0.04        -0.04      0.02    0.07 -0.25   0.89   0.78   \n",
       "\n",
       "             Fare  Cabin_ind  New_fare  Family_Cnt  \n",
       "Unnamed: 0   0.01       0.02      0.01       -0.04  \n",
       "PassengerId  0.01       0.02      0.01       -0.04  \n",
       "Survived     0.26       0.32      0.31        0.02  \n",
       "Pclass      -0.55      -0.73     -0.70        0.07  \n",
       "Age          0.09       0.23      0.13       -0.25  \n",
       "SibSp        0.16      -0.04      0.25        0.89  \n",
       "Parch        0.22       0.04      0.26        0.78  \n",
       "Fare         1.00       0.48      0.85        0.22  \n",
       "Cabin_ind    0.48       1.00      0.61       -0.01  \n",
       "New_fare     0.85       0.61      1.00        0.30  \n",
       "Family_Cnt   0.22      -0.01      0.30        1.00  "
      ]
     },
     "execution_count": 7,
     "metadata": {},
     "output_type": "execute_result"
    }
   ],
   "source": [
    "#Check for multi-collinearity\n",
    "cormat = df.corr()\n",
    "round(cormat,2)"
   ]
  },
  {
   "cell_type": "code",
   "execution_count": 8,
   "id": "c381a59b",
   "metadata": {},
   "outputs": [],
   "source": [
    "#Select only required classes and separate dependent & independent variables\n",
    "cols_needed = ['Pclass', 'Sex','Age','Embarked', 'Cabin_ind','New_fare','Family_Cnt']\n",
    "X = df[cols_needed]\n",
    "y = df['Survived']"
   ]
  },
  {
   "cell_type": "code",
   "execution_count": 9,
   "id": "e1341741",
   "metadata": {},
   "outputs": [],
   "source": [
    "#Create dummies for qualitative variables\n",
    "X = pd.get_dummies(X, columns = ['Pclass','Sex','Embarked'])"
   ]
  },
  {
   "cell_type": "code",
   "execution_count": 10,
   "id": "d7f45807",
   "metadata": {},
   "outputs": [
    {
     "data": {
      "text/html": [
       "<div>\n",
       "<style scoped>\n",
       "    .dataframe tbody tr th:only-of-type {\n",
       "        vertical-align: middle;\n",
       "    }\n",
       "\n",
       "    .dataframe tbody tr th {\n",
       "        vertical-align: top;\n",
       "    }\n",
       "\n",
       "    .dataframe thead th {\n",
       "        text-align: right;\n",
       "    }\n",
       "</style>\n",
       "<table border=\"1\" class=\"dataframe\">\n",
       "  <thead>\n",
       "    <tr style=\"text-align: right;\">\n",
       "      <th></th>\n",
       "      <th>Age</th>\n",
       "      <th>Cabin_ind</th>\n",
       "      <th>New_fare</th>\n",
       "      <th>Family_Cnt</th>\n",
       "      <th>Pclass_1</th>\n",
       "      <th>Pclass_2</th>\n",
       "      <th>Pclass_3</th>\n",
       "      <th>Sex_female</th>\n",
       "      <th>Sex_male</th>\n",
       "      <th>Embarked_C</th>\n",
       "      <th>Embarked_Q</th>\n",
       "      <th>Embarked_S</th>\n",
       "    </tr>\n",
       "  </thead>\n",
       "  <tbody>\n",
       "    <tr>\n",
       "      <th>0</th>\n",
       "      <td>22.0</td>\n",
       "      <td>0</td>\n",
       "      <td>7.2500</td>\n",
       "      <td>1</td>\n",
       "      <td>0</td>\n",
       "      <td>0</td>\n",
       "      <td>1</td>\n",
       "      <td>0</td>\n",
       "      <td>1</td>\n",
       "      <td>0</td>\n",
       "      <td>0</td>\n",
       "      <td>1</td>\n",
       "    </tr>\n",
       "    <tr>\n",
       "      <th>1</th>\n",
       "      <td>38.0</td>\n",
       "      <td>1</td>\n",
       "      <td>71.2833</td>\n",
       "      <td>1</td>\n",
       "      <td>1</td>\n",
       "      <td>0</td>\n",
       "      <td>0</td>\n",
       "      <td>1</td>\n",
       "      <td>0</td>\n",
       "      <td>1</td>\n",
       "      <td>0</td>\n",
       "      <td>0</td>\n",
       "    </tr>\n",
       "    <tr>\n",
       "      <th>2</th>\n",
       "      <td>26.0</td>\n",
       "      <td>0</td>\n",
       "      <td>7.9250</td>\n",
       "      <td>0</td>\n",
       "      <td>0</td>\n",
       "      <td>0</td>\n",
       "      <td>1</td>\n",
       "      <td>1</td>\n",
       "      <td>0</td>\n",
       "      <td>0</td>\n",
       "      <td>0</td>\n",
       "      <td>1</td>\n",
       "    </tr>\n",
       "    <tr>\n",
       "      <th>3</th>\n",
       "      <td>35.0</td>\n",
       "      <td>1</td>\n",
       "      <td>53.1000</td>\n",
       "      <td>1</td>\n",
       "      <td>1</td>\n",
       "      <td>0</td>\n",
       "      <td>0</td>\n",
       "      <td>1</td>\n",
       "      <td>0</td>\n",
       "      <td>0</td>\n",
       "      <td>0</td>\n",
       "      <td>1</td>\n",
       "    </tr>\n",
       "    <tr>\n",
       "      <th>4</th>\n",
       "      <td>35.0</td>\n",
       "      <td>0</td>\n",
       "      <td>8.0500</td>\n",
       "      <td>0</td>\n",
       "      <td>0</td>\n",
       "      <td>0</td>\n",
       "      <td>1</td>\n",
       "      <td>0</td>\n",
       "      <td>1</td>\n",
       "      <td>0</td>\n",
       "      <td>0</td>\n",
       "      <td>1</td>\n",
       "    </tr>\n",
       "  </tbody>\n",
       "</table>\n",
       "</div>"
      ],
      "text/plain": [
       "    Age  Cabin_ind  New_fare  Family_Cnt  Pclass_1  Pclass_2  Pclass_3  \\\n",
       "0  22.0          0    7.2500           1         0         0         1   \n",
       "1  38.0          1   71.2833           1         1         0         0   \n",
       "2  26.0          0    7.9250           0         0         0         1   \n",
       "3  35.0          1   53.1000           1         1         0         0   \n",
       "4  35.0          0    8.0500           0         0         0         1   \n",
       "\n",
       "   Sex_female  Sex_male  Embarked_C  Embarked_Q  Embarked_S  \n",
       "0           0         1           0           0           1  \n",
       "1           1         0           1           0           0  \n",
       "2           1         0           0           0           1  \n",
       "3           1         0           0           0           1  \n",
       "4           0         1           0           0           1  "
      ]
     },
     "execution_count": 10,
     "metadata": {},
     "output_type": "execute_result"
    }
   ],
   "source": [
    "X.head()"
   ]
  },
  {
   "cell_type": "code",
   "execution_count": 11,
   "id": "cde80cf2",
   "metadata": {},
   "outputs": [],
   "source": [
    "#Remove gender female, as gender-male is enough\n",
    "X.drop('Sex_female', axis =1, inplace = True)"
   ]
  },
  {
   "cell_type": "code",
   "execution_count": 12,
   "id": "57a0ee39",
   "metadata": {},
   "outputs": [
    {
     "data": {
      "text/html": [
       "<div>\n",
       "<style scoped>\n",
       "    .dataframe tbody tr th:only-of-type {\n",
       "        vertical-align: middle;\n",
       "    }\n",
       "\n",
       "    .dataframe tbody tr th {\n",
       "        vertical-align: top;\n",
       "    }\n",
       "\n",
       "    .dataframe thead th {\n",
       "        text-align: right;\n",
       "    }\n",
       "</style>\n",
       "<table border=\"1\" class=\"dataframe\">\n",
       "  <thead>\n",
       "    <tr style=\"text-align: right;\">\n",
       "      <th></th>\n",
       "      <th>Age</th>\n",
       "      <th>Cabin_ind</th>\n",
       "      <th>New_fare</th>\n",
       "      <th>Family_Cnt</th>\n",
       "      <th>Pclass_1</th>\n",
       "      <th>Pclass_2</th>\n",
       "      <th>Pclass_3</th>\n",
       "      <th>Sex_male</th>\n",
       "      <th>Embarked_C</th>\n",
       "      <th>Embarked_Q</th>\n",
       "      <th>Embarked_S</th>\n",
       "    </tr>\n",
       "  </thead>\n",
       "  <tbody>\n",
       "    <tr>\n",
       "      <th>0</th>\n",
       "      <td>22.0</td>\n",
       "      <td>0</td>\n",
       "      <td>7.2500</td>\n",
       "      <td>1</td>\n",
       "      <td>0</td>\n",
       "      <td>0</td>\n",
       "      <td>1</td>\n",
       "      <td>1</td>\n",
       "      <td>0</td>\n",
       "      <td>0</td>\n",
       "      <td>1</td>\n",
       "    </tr>\n",
       "    <tr>\n",
       "      <th>1</th>\n",
       "      <td>38.0</td>\n",
       "      <td>1</td>\n",
       "      <td>71.2833</td>\n",
       "      <td>1</td>\n",
       "      <td>1</td>\n",
       "      <td>0</td>\n",
       "      <td>0</td>\n",
       "      <td>0</td>\n",
       "      <td>1</td>\n",
       "      <td>0</td>\n",
       "      <td>0</td>\n",
       "    </tr>\n",
       "    <tr>\n",
       "      <th>2</th>\n",
       "      <td>26.0</td>\n",
       "      <td>0</td>\n",
       "      <td>7.9250</td>\n",
       "      <td>0</td>\n",
       "      <td>0</td>\n",
       "      <td>0</td>\n",
       "      <td>1</td>\n",
       "      <td>0</td>\n",
       "      <td>0</td>\n",
       "      <td>0</td>\n",
       "      <td>1</td>\n",
       "    </tr>\n",
       "    <tr>\n",
       "      <th>3</th>\n",
       "      <td>35.0</td>\n",
       "      <td>1</td>\n",
       "      <td>53.1000</td>\n",
       "      <td>1</td>\n",
       "      <td>1</td>\n",
       "      <td>0</td>\n",
       "      <td>0</td>\n",
       "      <td>0</td>\n",
       "      <td>0</td>\n",
       "      <td>0</td>\n",
       "      <td>1</td>\n",
       "    </tr>\n",
       "    <tr>\n",
       "      <th>4</th>\n",
       "      <td>35.0</td>\n",
       "      <td>0</td>\n",
       "      <td>8.0500</td>\n",
       "      <td>0</td>\n",
       "      <td>0</td>\n",
       "      <td>0</td>\n",
       "      <td>1</td>\n",
       "      <td>1</td>\n",
       "      <td>0</td>\n",
       "      <td>0</td>\n",
       "      <td>1</td>\n",
       "    </tr>\n",
       "  </tbody>\n",
       "</table>\n",
       "</div>"
      ],
      "text/plain": [
       "    Age  Cabin_ind  New_fare  Family_Cnt  Pclass_1  Pclass_2  Pclass_3  \\\n",
       "0  22.0          0    7.2500           1         0         0         1   \n",
       "1  38.0          1   71.2833           1         1         0         0   \n",
       "2  26.0          0    7.9250           0         0         0         1   \n",
       "3  35.0          1   53.1000           1         1         0         0   \n",
       "4  35.0          0    8.0500           0         0         0         1   \n",
       "\n",
       "   Sex_male  Embarked_C  Embarked_Q  Embarked_S  \n",
       "0         1           0           0           1  \n",
       "1         0           1           0           0  \n",
       "2         0           0           0           1  \n",
       "3         0           0           0           1  \n",
       "4         1           0           0           1  "
      ]
     },
     "execution_count": 12,
     "metadata": {},
     "output_type": "execute_result"
    }
   ],
   "source": [
    "X.head()"
   ]
  },
  {
   "cell_type": "code",
   "execution_count": 13,
   "id": "540849fb",
   "metadata": {},
   "outputs": [],
   "source": [
    "# Split the data into training and testing set\n",
    "from sklearn.model_selection import train_test_split\n",
    "X_train, X_test, y_train, y_test = train_test_split(X, y, test_size=0.2, random_state=428)"
   ]
  },
  {
   "cell_type": "code",
   "execution_count": 14,
   "id": "7c3416f4",
   "metadata": {},
   "outputs": [
    {
     "name": "stdout",
     "output_type": "stream",
     "text": [
      "(712, 11)\n",
      "(712,)\n",
      "(179, 11)\n",
      "(179,)\n"
     ]
    }
   ],
   "source": [
    "#Check the shape of train and test data\n",
    "print(X_train.shape)\n",
    "print(y_train.shape)\n",
    "print(X_test.shape)\n",
    "print(y_test.shape)"
   ]
  },
  {
   "cell_type": "code",
   "execution_count": 15,
   "id": "7a14496c",
   "metadata": {},
   "outputs": [
    {
     "data": {
      "text/plain": [
       "0.20089786756453423"
      ]
     },
     "execution_count": 15,
     "metadata": {},
     "output_type": "execute_result"
    }
   ],
   "source": [
    "179/(712+179)"
   ]
  },
  {
   "cell_type": "code",
   "execution_count": 16,
   "id": "91fd287c",
   "metadata": {},
   "outputs": [],
   "source": [
    "#load Logistic Regression\n",
    "from sklearn.linear_model import LogisticRegression"
   ]
  },
  {
   "cell_type": "code",
   "execution_count": 17,
   "id": "53a63762",
   "metadata": {},
   "outputs": [
    {
     "data": {
      "text/plain": [
       "LogisticRegression()"
      ]
     },
     "execution_count": 17,
     "metadata": {},
     "output_type": "execute_result"
    }
   ],
   "source": [
    "#Fit logistic regression\n",
    "lr_model = LogisticRegression()\n",
    "lr_model.fit(X_train,y_train)"
   ]
  },
  {
   "cell_type": "code",
   "execution_count": 18,
   "id": "9d1315d0",
   "metadata": {},
   "outputs": [
    {
     "data": {
      "text/plain": [
       "array([[-0.03114614,  0.65184517,  0.00760379, -0.22725364,  0.72876684,\n",
       "         0.61040912, -0.41227892, -2.63069299,  0.50454395,  0.57002626,\n",
       "        -0.14767316]])"
      ]
     },
     "execution_count": 18,
     "metadata": {},
     "output_type": "execute_result"
    }
   ],
   "source": [
    "#Check co-efficients \n",
    "lr_model.coef_"
   ]
  },
  {
   "cell_type": "code",
   "execution_count": 19,
   "id": "e2f0a457",
   "metadata": {},
   "outputs": [
    {
     "data": {
      "text/plain": [
       "array([1.72892945])"
      ]
     },
     "execution_count": 19,
     "metadata": {},
     "output_type": "execute_result"
    }
   ],
   "source": [
    "#Look at the intercept\n",
    "lr_model.intercept_"
   ]
  },
  {
   "cell_type": "code",
   "execution_count": 20,
   "id": "3d34ffd5",
   "metadata": {},
   "outputs": [],
   "source": [
    "#predict for test data\n",
    "predictions = lr_model.predict(X_test)"
   ]
  },
  {
   "cell_type": "code",
   "execution_count": 21,
   "id": "c5173965",
   "metadata": {},
   "outputs": [
    {
     "data": {
      "text/plain": [
       "array([0, 0, 0, 1, 1, 1, 0, 0, 1, 1, 0, 0, 1, 0, 0, 1, 0, 1, 0, 0, 0, 0,\n",
       "       0, 0, 0, 0, 0, 0, 0, 1, 0, 0, 1, 0, 0, 0, 0, 0, 0, 1, 0, 1, 0, 0,\n",
       "       1, 0, 0, 0, 1, 1, 0, 1, 0, 1, 0, 0, 1, 0, 0, 0, 0, 0, 0, 0, 1, 0,\n",
       "       1, 1, 1, 0, 0, 1, 0, 1, 0, 1, 0, 0, 1, 1, 1, 1, 1, 0, 0, 0, 1, 1,\n",
       "       1, 0, 0, 0, 0, 0, 0, 0, 0, 0, 0, 0, 1, 0, 0, 1, 1, 0, 0, 1, 0, 0,\n",
       "       1, 1, 1, 1, 0, 0, 0, 1, 1, 0, 0, 1, 0, 1, 0, 0, 1, 0, 0, 0, 0, 0,\n",
       "       0, 1, 1, 0, 1, 1, 1, 0, 0, 1, 0, 1, 0, 0, 1, 0, 1, 0, 1, 0, 0, 1,\n",
       "       0, 0, 1, 0, 0, 0, 0, 1, 1, 0, 1, 0, 0, 1, 0, 0, 0, 1, 1, 0, 0, 1,\n",
       "       1, 0, 1], dtype=int64)"
      ]
     },
     "execution_count": 21,
     "metadata": {},
     "output_type": "execute_result"
    }
   ],
   "source": [
    "predictions"
   ]
  },
  {
   "cell_type": "code",
   "execution_count": 22,
   "id": "32ef635f",
   "metadata": {},
   "outputs": [
    {
     "data": {
      "text/plain": [
       "array([[0.83342522, 0.16657478],\n",
       "       [0.76514985, 0.23485015],\n",
       "       [0.91668475, 0.08331525],\n",
       "       [0.1625861 , 0.8374139 ],\n",
       "       [0.10021369, 0.89978631],\n",
       "       [0.06074294, 0.93925706],\n",
       "       [0.98417825, 0.01582175],\n",
       "       [0.98417825, 0.01582175],\n",
       "       [0.17216884, 0.82783116],\n",
       "       [0.22591096, 0.77408904],\n",
       "       [0.87273186, 0.12726814],\n",
       "       [0.70601923, 0.29398077],\n",
       "       [0.19550907, 0.80449093],\n",
       "       [0.9212515 , 0.0787485 ],\n",
       "       [0.86861421, 0.13138579],\n",
       "       [0.27242041, 0.72757959],\n",
       "       [0.75568083, 0.24431917],\n",
       "       [0.26979775, 0.73020225],\n",
       "       [0.90652387, 0.09347613],\n",
       "       [0.84717984, 0.15282016],\n",
       "       [0.82508269, 0.17491731],\n",
       "       [0.84284388, 0.15715612],\n",
       "       [0.88950749, 0.11049251],\n",
       "       [0.91221398, 0.08778602],\n",
       "       [0.81554686, 0.18445314],\n",
       "       [0.74692423, 0.25307577],\n",
       "       [0.81403455, 0.18596545],\n",
       "       [0.89606857, 0.10393143],\n",
       "       [0.56733399, 0.43266601],\n",
       "       [0.36508711, 0.63491289],\n",
       "       [0.91096849, 0.08903151],\n",
       "       [0.87470736, 0.12529264],\n",
       "       [0.42429289, 0.57570711],\n",
       "       [0.94250418, 0.05749582],\n",
       "       [0.87611593, 0.12388407],\n",
       "       [0.77991844, 0.22008156],\n",
       "       [0.53313285, 0.46686715],\n",
       "       [0.88593244, 0.11406756],\n",
       "       [0.9235481 , 0.0764519 ],\n",
       "       [0.20486991, 0.79513009],\n",
       "       [0.82715121, 0.17284879],\n",
       "       [0.09477741, 0.90522259],\n",
       "       [0.97604684, 0.02395316],\n",
       "       [0.89571308, 0.10428692],\n",
       "       [0.16647324, 0.83352676],\n",
       "       [0.91106354, 0.08893646],\n",
       "       [0.64502714, 0.35497286],\n",
       "       [0.82561711, 0.17438289],\n",
       "       [0.08608865, 0.91391135],\n",
       "       [0.19640133, 0.80359867],\n",
       "       [0.9181372 , 0.0818628 ],\n",
       "       [0.26491184, 0.73508816],\n",
       "       [0.6769231 , 0.3230769 ],\n",
       "       [0.04259136, 0.95740864],\n",
       "       [0.72130909, 0.27869091],\n",
       "       [0.92420716, 0.07579284],\n",
       "       [0.19532691, 0.80467309],\n",
       "       [0.88231042, 0.11768958],\n",
       "       [0.9212515 , 0.0787485 ],\n",
       "       [0.86165482, 0.13834518],\n",
       "       [0.76514985, 0.23485015],\n",
       "       [0.63046638, 0.36953362],\n",
       "       [0.71960581, 0.28039419],\n",
       "       [0.93860231, 0.06139769],\n",
       "       [0.24822454, 0.75177546],\n",
       "       [0.90670797, 0.09329203],\n",
       "       [0.14269724, 0.85730276],\n",
       "       [0.47764701, 0.52235299],\n",
       "       [0.2207622 , 0.7792378 ],\n",
       "       [0.91096849, 0.08903151],\n",
       "       [0.83344718, 0.16655282],\n",
       "       [0.23698991, 0.76301009],\n",
       "       [0.94689361, 0.05310639],\n",
       "       [0.06669848, 0.93330152],\n",
       "       [0.53878277, 0.46121723],\n",
       "       [0.06966975, 0.93033025],\n",
       "       [0.88064526, 0.11935474],\n",
       "       [0.905644  , 0.094356  ],\n",
       "       [0.37539608, 0.62460392],\n",
       "       [0.09939605, 0.90060395],\n",
       "       [0.33954032, 0.66045968],\n",
       "       [0.31691641, 0.68308359],\n",
       "       [0.02966706, 0.97033294],\n",
       "       [0.78679416, 0.21320584],\n",
       "       [0.8865588 , 0.1134412 ],\n",
       "       [0.69086105, 0.30913895],\n",
       "       [0.11422822, 0.88577178],\n",
       "       [0.09321759, 0.90678241],\n",
       "       [0.05212501, 0.94787499],\n",
       "       [0.78371494, 0.21628506],\n",
       "       [0.88544994, 0.11455006],\n",
       "       [0.72811392, 0.27188608],\n",
       "       [0.92392372, 0.07607628],\n",
       "       [0.87249713, 0.12750287],\n",
       "       [0.72585072, 0.27414928],\n",
       "       [0.94108486, 0.05891514],\n",
       "       [0.95063141, 0.04936859],\n",
       "       [0.88853221, 0.11146779],\n",
       "       [0.87351505, 0.12648495],\n",
       "       [0.9040783 , 0.0959217 ],\n",
       "       [0.36268506, 0.63731494],\n",
       "       [0.87989733, 0.12010267],\n",
       "       [0.83342522, 0.16657478],\n",
       "       [0.0610498 , 0.9389502 ],\n",
       "       [0.37249205, 0.62750795],\n",
       "       [0.53584163, 0.46415837],\n",
       "       [0.91747342, 0.08252658],\n",
       "       [0.31457109, 0.68542891],\n",
       "       [0.73287332, 0.26712668],\n",
       "       [0.9542826 , 0.0457174 ],\n",
       "       [0.36214043, 0.63785957],\n",
       "       [0.19755473, 0.80244527],\n",
       "       [0.21833821, 0.78166179],\n",
       "       [0.04223886, 0.95776114],\n",
       "       [0.88661935, 0.11338065],\n",
       "       [0.61571663, 0.38428337],\n",
       "       [0.52310668, 0.47689332],\n",
       "       [0.08247119, 0.91752881],\n",
       "       [0.0392255 , 0.9607745 ],\n",
       "       [0.91111734, 0.08888266],\n",
       "       [0.86283191, 0.13716809],\n",
       "       [0.19490896, 0.80509104],\n",
       "       [0.70557863, 0.29442137],\n",
       "       [0.15609325, 0.84390675],\n",
       "       [0.81753397, 0.18246603],\n",
       "       [0.91106354, 0.08893646],\n",
       "       [0.40412861, 0.59587139],\n",
       "       [0.61846201, 0.38153799],\n",
       "       [0.8026201 , 0.1973799 ],\n",
       "       [0.82561711, 0.17438289],\n",
       "       [0.72351381, 0.27648619],\n",
       "       [0.92392372, 0.07607628],\n",
       "       [0.78152277, 0.21847723],\n",
       "       [0.09930249, 0.90069751],\n",
       "       [0.36052702, 0.63947298],\n",
       "       [0.53568646, 0.46431354],\n",
       "       [0.07478413, 0.92521587],\n",
       "       [0.17098415, 0.82901585],\n",
       "       [0.4103879 , 0.5896121 ],\n",
       "       [0.88962267, 0.11037733],\n",
       "       [0.53430343, 0.46569657],\n",
       "       [0.20339868, 0.79660132],\n",
       "       [0.74202272, 0.25797728],\n",
       "       [0.26509075, 0.73490925],\n",
       "       [0.88338845, 0.11661155],\n",
       "       [0.89267444, 0.10732556],\n",
       "       [0.09320608, 0.90679392],\n",
       "       [0.83397868, 0.16602132],\n",
       "       [0.04193714, 0.95806286],\n",
       "       [0.54250611, 0.45749389],\n",
       "       [0.28535706, 0.71464294],\n",
       "       [0.92170601, 0.07829399],\n",
       "       [0.88269214, 0.11730786],\n",
       "       [0.13226731, 0.86773269],\n",
       "       [0.81464035, 0.18535965],\n",
       "       [0.76509615, 0.23490385],\n",
       "       [0.26025008, 0.73974992],\n",
       "       [0.82059229, 0.17940771],\n",
       "       [0.57257272, 0.42742728],\n",
       "       [0.82247616, 0.17752384],\n",
       "       [0.80374065, 0.19625935],\n",
       "       [0.3757443 , 0.6242557 ],\n",
       "       [0.27431021, 0.72568979],\n",
       "       [0.64806114, 0.35193886],\n",
       "       [0.18534631, 0.81465369],\n",
       "       [0.83345161, 0.16654839],\n",
       "       [0.8656431 , 0.1343569 ],\n",
       "       [0.07816041, 0.92183959],\n",
       "       [0.89566367, 0.10433633],\n",
       "       [0.94238043, 0.05761957],\n",
       "       [0.52291438, 0.47708562],\n",
       "       [0.39899154, 0.60100846],\n",
       "       [0.43536042, 0.56463958],\n",
       "       [0.92573434, 0.07426566],\n",
       "       [0.87622379, 0.12377621],\n",
       "       [0.09728078, 0.90271922],\n",
       "       [0.33334669, 0.66665331],\n",
       "       [0.90445403, 0.09554597],\n",
       "       [0.31180801, 0.68819199]])"
      ]
     },
     "execution_count": 22,
     "metadata": {},
     "output_type": "execute_result"
    }
   ],
   "source": [
    "#If you want probability\n",
    "lr_model.predict_proba(X_test)"
   ]
  },
  {
   "cell_type": "code",
   "execution_count": 23,
   "id": "5f1f490c",
   "metadata": {},
   "outputs": [
    {
     "name": "stdout",
     "output_type": "stream",
     "text": [
      "training accuracy: 0.8117977528089888\n",
      "test accuracy: 0.7932960893854749\n"
     ]
    }
   ],
   "source": [
    "#Check the accuracy of the model\n",
    "print('training accuracy:', lr_model.score(X_train, y_train))\n",
    "print('test accuracy:',lr_model.score(X_test, y_test))"
   ]
  },
  {
   "cell_type": "code",
   "execution_count": 24,
   "id": "5f571a39",
   "metadata": {},
   "outputs": [
    {
     "name": "stdout",
     "output_type": "stream",
     "text": [
      "Confusion matrix\n",
      "\n",
      " [[90 15]\n",
      " [22 52]]\n"
     ]
    }
   ],
   "source": [
    "# Print the Confusion Matrix and slice it into four pieces\n",
    "\n",
    "from sklearn.metrics import confusion_matrix\n",
    "cm = confusion_matrix(y_test, predictions)\n",
    "print('Confusion matrix\\n\\n', cm)"
   ]
  },
  {
   "cell_type": "code",
   "execution_count": 25,
   "id": "97dda059",
   "metadata": {},
   "outputs": [
    {
     "data": {
      "text/plain": [
       "<AxesSubplot:>"
      ]
     },
     "execution_count": 25,
     "metadata": {},
     "output_type": "execute_result"
    },
    {
     "data": {
      "image/png": "[encoded data removed]",
      "text/plain": [
       "<Figure size 432x288 with 2 Axes>"
      ]
     },
     "metadata": {
      "needs_background": "light"
     },
     "output_type": "display_data"
    }
   ],
   "source": [
    "# visualize confusion matrix with seaborn heatmap\n",
    "\n",
    "cm_matrix = pd.DataFrame(data=cm, columns=['Predicted -ve:0', 'Predicted +ve:1'], \n",
    "                                 index=['Actual -ve:0', 'Actual +ve:1'])\n",
    "\n",
    "sns.heatmap(cm_matrix, annot=True, fmt='d', cmap='YlGnBu')"
   ]
  },
  {
   "cell_type": "markdown",
   "id": "5c17f513",
   "metadata": {},
   "source": [
    "# Evaluation"
   ]
  },
  {
   "cell_type": "code",
   "execution_count": 26,
   "id": "0e1ec97a",
   "metadata": {},
   "outputs": [
    {
     "data": {
      "text/plain": [
       "0.7932960893854749"
      ]
     },
     "execution_count": 26,
     "metadata": {},
     "output_type": "execute_result"
    }
   ],
   "source": [
    "#Accuracy\n",
    "(90+52)/(90+15+22+52)"
   ]
  },
  {
   "cell_type": "code",
   "execution_count": 27,
   "id": "54e18872",
   "metadata": {},
   "outputs": [
    {
     "name": "stdout",
     "output_type": "stream",
     "text": [
      "0.7761194029850746\n"
     ]
    }
   ],
   "source": [
    "#Precision \n",
    "#Out of predicted as Survived, how many were actually survived?\n",
    "print(52/(52+15))"
   ]
  },
  {
   "cell_type": "code",
   "execution_count": 28,
   "id": "a6b70560",
   "metadata": {},
   "outputs": [
    {
     "name": "stdout",
     "output_type": "stream",
     "text": [
      "0.7027027027027027\n"
     ]
    }
   ],
   "source": [
    "#Recall\n",
    "#Out of all the survive, how many were actually survived?\n",
    "print(52/(52+22))"
   ]
  },
  {
   "cell_type": "code",
   "execution_count": 29,
   "id": "06c1d73b",
   "metadata": {},
   "outputs": [
    {
     "name": "stdout",
     "output_type": "stream",
     "text": [
      "0.7932960893854749\n"
     ]
    }
   ],
   "source": [
    "# Accuracy Score\n",
    "from sklearn.metrics import accuracy_score\n",
    "print(accuracy_score(y_test, predictions))"
   ]
  },
  {
   "cell_type": "code",
   "execution_count": 30,
   "id": "53f7811f",
   "metadata": {},
   "outputs": [
    {
     "name": "stdout",
     "output_type": "stream",
     "text": [
      "Confusion Matrix (Accuracy 0.7933)\n",
      "\n",
      "             Prediction\n",
      "      Actual not-survived     survived\n",
      "not-survived           90           15\n",
      "    survived           22           52\n"
     ]
    }
   ],
   "source": [
    "from dmba import classificationSummary\n",
    "classificationSummary(y_test, predictions, class_names = ['not-survived','survived'])"
   ]
  },
  {
   "cell_type": "code",
   "execution_count": 31,
   "id": "92831b70",
   "metadata": {},
   "outputs": [
    {
     "name": "stdout",
     "output_type": "stream",
     "text": [
      "              precision    recall  f1-score   support\n",
      "\n",
      "           0       0.80      0.86      0.83       105\n",
      "           1       0.78      0.70      0.74        74\n",
      "\n",
      "    accuracy                           0.79       179\n",
      "   macro avg       0.79      0.78      0.78       179\n",
      "weighted avg       0.79      0.79      0.79       179\n",
      "\n"
     ]
    }
   ],
   "source": [
    "from sklearn.metrics import classification_report\n",
    "\n",
    "print(classification_report(y_test, predictions))"
   ]
  },
  {
   "cell_type": "code",
   "execution_count": 32,
   "id": "56ad5260",
   "metadata": {},
   "outputs": [
    {
     "name": "stdout",
     "output_type": "stream",
     "text": [
      "0.8035714285714286\n",
      "0.7761194029850746\n"
     ]
    }
   ],
   "source": [
    "#Precision\n",
    "print(90/(90+22)) #if Not survived is your relevant class\n",
    "print(52/(52+15)) #if survived is your relevant class"
   ]
  },
  {
   "cell_type": "code",
   "execution_count": 33,
   "id": "d96dc538",
   "metadata": {},
   "outputs": [
    {
     "name": "stdout",
     "output_type": "stream",
     "text": [
      "0.8571428571428571\n",
      "0.7027027027027027\n"
     ]
    }
   ],
   "source": [
    "#Recall\n",
    "print(90/(90+15)) #if Not survived is your relevant class\n",
    "print(52/(52+22)) #if survived is your relevant class"
   ]
  },
  {
   "cell_type": "code",
   "execution_count": 34,
   "id": "c9fe144a",
   "metadata": {},
   "outputs": [],
   "source": [
    "#Try different Threshold and check precision and recall\n",
    "prediction_prob = lr_model.predict_proba(X_test)[:,1]\n",
    "type(prediction_prob)\n",
    "#predictions_threshold = \n",
    "prediction_prob[prediction_prob > 0.8] = 1\n",
    "prediction_prob[prediction_prob <= 0.8] = 0"
   ]
  },
  {
   "cell_type": "code",
   "execution_count": 35,
   "id": "3aabdb96",
   "metadata": {},
   "outputs": [
    {
     "name": "stdout",
     "output_type": "stream",
     "text": [
      "Confusion Matrix (Accuracy 0.7486)\n",
      "\n",
      "             Prediction\n",
      "      Actual not-survived     survived\n",
      "not-survived          102            3\n",
      "    survived           42           32\n"
     ]
    }
   ],
   "source": [
    "classificationSummary(y_test, prediction_prob, class_names = ['not-survived','survived'])"
   ]
  },
  {
   "cell_type": "code",
   "execution_count": 36,
   "id": "454772e8",
   "metadata": {},
   "outputs": [
    {
     "name": "stdout",
     "output_type": "stream",
     "text": [
      "              precision    recall  f1-score   support\n",
      "\n",
      "           0       0.71      0.97      0.82       105\n",
      "           1       0.91      0.43      0.59        74\n",
      "\n",
      "    accuracy                           0.75       179\n",
      "   macro avg       0.81      0.70      0.70       179\n",
      "weighted avg       0.79      0.75      0.72       179\n",
      "\n"
     ]
    }
   ],
   "source": [
    "print(classification_report(y_test, prediction_prob))\n",
    "#Recall up, Precicision down"
   ]
  },
  {
   "cell_type": "code",
   "execution_count": 37,
   "id": "6e6737be",
   "metadata": {},
   "outputs": [],
   "source": [
    "#0.2\n",
    "prediction_prob = lr_model.predict_proba(X_test)[:,1]\n",
    "type(prediction_prob)\n",
    "#predictions_threshold = \n",
    "prediction_prob[prediction_prob > 0.2] = 1\n",
    "prediction_prob[prediction_prob <= 0.2] = 0"
   ]
  },
  {
   "cell_type": "code",
   "execution_count": 38,
   "id": "8ac134ac",
   "metadata": {},
   "outputs": [
    {
     "name": "stdout",
     "output_type": "stream",
     "text": [
      "Confusion Matrix (Accuracy 0.7430)\n",
      "\n",
      "             Prediction\n",
      "      Actual not-survived     survived\n",
      "not-survived           68           37\n",
      "    survived            9           65\n"
     ]
    }
   ],
   "source": [
    "classificationSummary(y_test, prediction_prob, class_names = ['not-survived','survived'])"
   ]
  },
  {
   "cell_type": "code",
   "execution_count": 39,
   "id": "551a5398",
   "metadata": {},
   "outputs": [
    {
     "name": "stdout",
     "output_type": "stream",
     "text": [
      "              precision    recall  f1-score   support\n",
      "\n",
      "           0       0.88      0.65      0.75       105\n",
      "           1       0.64      0.88      0.74        74\n",
      "\n",
      "    accuracy                           0.74       179\n",
      "   macro avg       0.76      0.76      0.74       179\n",
      "weighted avg       0.78      0.74      0.74       179\n",
      "\n"
     ]
    }
   ],
   "source": [
    "print(classification_report(y_test, prediction_prob))\n",
    "#Recall down, precision up"
   ]
  },
  {
   "cell_type": "code",
   "execution_count": 40,
   "id": "2a3e997c",
   "metadata": {},
   "outputs": [
    {
     "data": {
      "image/png": "[encoded data removed]",
      "text/plain": [
       "<Figure size 432x288 with 1 Axes>"
      ]
     },
     "metadata": {
      "needs_background": "light"
     },
     "output_type": "display_data"
    }
   ],
   "source": [
    "from sklearn.metrics import precision_recall_curve\n",
    "# Generate precision recall curve values: precision, recall, thresholds\n",
    "precision, recall, thresholds = precision_recall_curve(y_test, prediction_prob)\n",
    "\n",
    "# Plot Precision Recall curve\n",
    "plt.plot(precision, recall)\n",
    "plt.xlabel('Recall')\n",
    "plt.ylabel('Precision')\n",
    "plt.title('Precision Recall Curve')\n",
    "plt.show()"
   ]
  },
  {
   "cell_type": "code",
   "execution_count": 41,
   "id": "b2b1d085",
   "metadata": {},
   "outputs": [
    {
     "name": "stdout",
     "output_type": "stream",
     "text": [
      "AUC -  0.762998712998713\n"
     ]
    },
    {
     "data": {
      "image/png": "[encoded data removed]",
      "text/plain": [
       "<Figure size 432x288 with 1 Axes>"
      ]
     },
     "metadata": {
      "needs_background": "light"
     },
     "output_type": "display_data"
    }
   ],
   "source": [
    "from sklearn.metrics import roc_curve, auc\n",
    "\n",
    "false_positive_rate, true_positive_rate, thresholds = roc_curve(y_test, prediction_prob)\n",
    "roc_auc = auc(false_positive_rate, true_positive_rate)\n",
    "\n",
    "print(\"AUC - \",format(roc_auc))\n",
    "# Plot Precision Recall curve\n",
    "plt.plot(false_positive_rate, true_positive_rate)\n",
    "plt.xlabel('FPR')\n",
    "plt.ylabel('TPR')\n",
    "plt.title('ROC Curve')\n",
    "plt.show()"
   ]
  },
  {
   "cell_type": "code",
   "execution_count": null,
   "id": "c599c723",
   "metadata": {},
   "outputs": [],
   "source": []
  }
 ],
 "metadata": {
  "kernelspec": {
   "display_name": "Python 3 (ipykernel)",
   "language": "python",
   "name": "python3"
  },
  "language_info": {
   "codemirror_mode": {
    "name": "ipython",
    "version": 3
   },
   "file_extension": ".py",
   "mimetype": "text/x-python",
   "name": "python",
   "nbconvert_exporter": "python",
   "pygments_lexer": "ipython3",
   "version": "3.9.12"
  }
 },
 "nbformat": 4,
 "nbformat_minor": 5
}

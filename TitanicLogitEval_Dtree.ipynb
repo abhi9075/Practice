{
 "cells": [
  {
   "cell_type": "code",
   "execution_count": null,
   "id": "732f9543",
   "metadata": {},
   "outputs": [],
   "source": [
    "#Import our standard libraries\n",
    "import numpy as np\n",
    "import pandas as pd\n",
    "import matplotlib.pyplot as plt\n",
    "import seaborn as sns"
   ]
  },
  {
   "cell_type": "code",
   "execution_count": null,
   "id": "a188c42b",
   "metadata": {},
   "outputs": [],
   "source": [
    "#suppress warnings\n",
    "import warnings\n",
    "warnings.filterwarnings('ignore')"
   ]
  },
  {
   "cell_type": "code",
   "execution_count": null,
   "id": "b0c62510",
   "metadata": {},
   "outputs": [],
   "source": [
    "#Load Clearned Dataset\n",
    "fname = \"titanic_cleaned.csv\"\n",
    "df = pd.read_csv(fname) "
   ]
  },
  {
   "cell_type": "code",
   "execution_count": null,
   "id": "2bd6d2b0",
   "metadata": {},
   "outputs": [],
   "source": [
    "df.shape"
   ]
  },
  {
   "cell_type": "code",
   "execution_count": null,
   "id": "63a141f3",
   "metadata": {},
   "outputs": [],
   "source": [
    "df.isnull().sum()"
   ]
  },
  {
   "cell_type": "code",
   "execution_count": null,
   "id": "b8e2db76",
   "metadata": {},
   "outputs": [],
   "source": [
    "df.head()"
   ]
  },
  {
   "cell_type": "code",
   "execution_count": null,
   "id": "151aa584",
   "metadata": {},
   "outputs": [],
   "source": [
    "#Check for multi-collinearity\n",
    "cormat = df.corr()\n",
    "round(cormat,2)"
   ]
  },
  {
   "cell_type": "code",
   "execution_count": null,
   "id": "c381a59b",
   "metadata": {},
   "outputs": [],
   "source": [
    "#Select only required classes and separate dependent & independent variables\n",
    "cols_needed = ['Pclass', 'Sex','Age','Embarked', 'Cabin_ind','New_fare','Family_Cnt']\n",
    "X = df[cols_needed]\n",
    "y = df['Survived']"
   ]
  },
  {
   "cell_type": "code",
   "execution_count": null,
   "id": "e1341741",
   "metadata": {},
   "outputs": [],
   "source": [
    "#Create dummies for qualitative variables\n",
    "X = pd.get_dummies(X, columns = ['Pclass','Sex','Embarked'])"
   ]
  },
  {
   "cell_type": "code",
   "execution_count": null,
   "id": "d7f45807",
   "metadata": {},
   "outputs": [],
   "source": [
    "X.head()"
   ]
  },
  {
   "cell_type": "code",
   "execution_count": null,
   "id": "cde80cf2",
   "metadata": {},
   "outputs": [],
   "source": [
    "#Remove gender female, as gender-male is enough\n",
    "X.drop('Sex_female', axis =1, inplace = True)"
   ]
  },
  {
   "cell_type": "code",
   "execution_count": null,
   "id": "57a0ee39",
   "metadata": {},
   "outputs": [],
   "source": [
    "X.head()"
   ]
  },
  {
   "cell_type": "code",
   "execution_count": null,
   "id": "540849fb",
   "metadata": {},
   "outputs": [],
   "source": [
    "# Split the data into training and testing set\n",
    "from sklearn.model_selection import train_test_split\n",
    "X_train, X_test, y_train, y_test = train_test_split(X, y, test_size=0.2, random_state=428)"
   ]
  },
  {
   "cell_type": "code",
   "execution_count": null,
   "id": "7c3416f4",
   "metadata": {},
   "outputs": [],
   "source": [
    "#Check the shape of train and test data\n",
    "print(X_train.shape)\n",
    "print(y_train.shape)\n",
    "print(X_test.shape)\n",
    "print(y_test.shape)"
   ]
  },
  {
   "cell_type": "code",
   "execution_count": null,
   "id": "7a14496c",
   "metadata": {},
   "outputs": [],
   "source": [
    "179/(712+179)"
   ]
  },
  {
   "cell_type": "code",
   "execution_count": null,
   "id": "91fd287c",
   "metadata": {},
   "outputs": [],
   "source": [
    "#load Logistic Regression\n",
    "from sklearn.linear_model import LogisticRegression"
   ]
  },
  {
   "cell_type": "code",
   "execution_count": null,
   "id": "53a63762",
   "metadata": {},
   "outputs": [],
   "source": [
    "#Fit logistic regression\n",
    "lr_model = LogisticRegression()\n",
    "lr_model.fit(X_train,y_train)"
   ]
  },
  {
   "cell_type": "code",
   "execution_count": null,
   "id": "9d1315d0",
   "metadata": {},
   "outputs": [],
   "source": [
    "#Check co-efficients \n",
    "lr_model.coef_"
   ]
  },
  {
   "cell_type": "code",
   "execution_count": null,
   "id": "e2f0a457",
   "metadata": {},
   "outputs": [],
   "source": [
    "#Look at the intercept\n",
    "lr_model.intercept_"
   ]
  },
  {
   "cell_type": "code",
   "execution_count": null,
   "id": "3d34ffd5",
   "metadata": {},
   "outputs": [],
   "source": [
    "#predict for test data\n",
    "predictions = lr_model.predict(X_test)"
   ]
  },
  {
   "cell_type": "code",
   "execution_count": null,
   "id": "c5173965",
   "metadata": {},
   "outputs": [],
   "source": [
    "predictions"
   ]
  },
  {
   "cell_type": "code",
   "execution_count": null,
   "id": "32ef635f",
   "metadata": {},
   "outputs": [],
   "source": [
    "#If you want probability\n",
    "lr_model.predict_proba(X_test)"
   ]
  },
  {
   "cell_type": "code",
   "execution_count": null,
   "id": "5f1f490c",
   "metadata": {},
   "outputs": [],
   "source": [
    "#Check the accuracy of the model\n",
    "print('training accuracy:', lr_model.score(X_train, y_train))\n",
    "print('test accuracy:',lr_model.score(X_test, y_test))"
   ]
  },
  {
   "cell_type": "code",
   "execution_count": null,
   "id": "5f571a39",
   "metadata": {},
   "outputs": [],
   "source": [
    "# Print the Confusion Matrix and slice it into four pieces\n",
    "\n",
    "from sklearn.metrics import confusion_matrix\n",
    "cm = confusion_matrix(y_test, predictions)\n",
    "print('Confusion matrix\\n\\n', cm)"
   ]
  },
  {
   "cell_type": "code",
   "execution_count": null,
   "id": "97dda059",
   "metadata": {},
   "outputs": [],
   "source": [
    "# visualize confusion matrix with seaborn heatmap\n",
    "\n",
    "cm_matrix = pd.DataFrame(data=cm, columns=['Predicted -ve:0', 'Predicted +ve:1'], \n",
    "                                 index=['Actual -ve:0', 'Actual +ve:1'])\n",
    "\n",
    "sns.heatmap(cm_matrix, annot=True, fmt='d', cmap='YlGnBu')"
   ]
  },
  {
   "cell_type": "markdown",
   "id": "5c17f513",
   "metadata": {},
   "source": [
    "# Evaluation"
   ]
  },
  {
   "cell_type": "code",
   "execution_count": null,
   "id": "0e1ec97a",
   "metadata": {},
   "outputs": [],
   "source": [
    "#Accuracy\n",
    "(90+52)/(90+15+22+52)"
   ]
  },
  {
   "cell_type": "code",
   "execution_count": null,
   "id": "54e18872",
   "metadata": {},
   "outputs": [],
   "source": [
    "#Precision \n",
    "#Out of predicted as Survived, how many were actually survived?\n",
    "print(52/(52+15))"
   ]
  },
  {
   "cell_type": "code",
   "execution_count": null,
   "id": "a6b70560",
   "metadata": {},
   "outputs": [],
   "source": [
    "#Recall\n",
    "#Out of all the survive, how many were actually survived?\n",
    "print(52/(52+22))"
   ]
  },
  {
   "cell_type": "code",
   "execution_count": null,
   "id": "06c1d73b",
   "metadata": {},
   "outputs": [],
   "source": [
    "# Accuracy Score\n",
    "from sklearn.metrics import accuracy_score\n",
    "print(accuracy_score(y_test, predictions))"
   ]
  },
  {
   "cell_type": "code",
   "execution_count": null,
   "id": "53f7811f",
   "metadata": {},
   "outputs": [],
   "source": [
    "from sklearn.metrics import confusion_matrix\n",
    "cm = confusion_matrix(y_test, predictions)\n",
    "print('Confusion matrix\\n\\n', cm)"
   ]
  },
  {
   "cell_type": "code",
   "execution_count": null,
   "id": "92831b70",
   "metadata": {},
   "outputs": [],
   "source": [
    "from sklearn.metrics import classification_report\n",
    "\n",
    "print(classification_report(y_test, predictions))"
   ]
  },
  {
   "cell_type": "code",
   "execution_count": null,
   "id": "56ad5260",
   "metadata": {},
   "outputs": [],
   "source": [
    "#Precision\n",
    "print(90/(90+22)) #if Not survived is your relevant class\n",
    "print(52/(52+15)) #if survived is your relevant class"
   ]
  },
  {
   "cell_type": "code",
   "execution_count": null,
   "id": "d96dc538",
   "metadata": {},
   "outputs": [],
   "source": [
    "#Recall\n",
    "print(90/(90+15)) #if Not survived is your relevant class\n",
    "print(52/(52+22)) #if survived is your relevant class"
   ]
  },
  {
   "cell_type": "code",
   "execution_count": null,
   "id": "c9fe144a",
   "metadata": {},
   "outputs": [],
   "source": [
    "#Try different Threshold and check precision and recall\n",
    "prediction_prob = lr_model.predict_proba(X_test)[:,1]\n",
    "type(prediction_prob)\n",
    "#predictions_threshold = \n",
    "prediction_prob[prediction_prob > 0.8] = 1\n",
    "prediction_prob[prediction_prob <= 0.8] = 0"
   ]
  },
  {
   "cell_type": "code",
   "execution_count": null,
   "id": "3aabdb96",
   "metadata": {},
   "outputs": [],
   "source": [
    "cm = confusion_matrix(y_test, prediction_prob)\n",
    "print('Confusion matrix\\n\\n', cm)"
   ]
  },
  {
   "cell_type": "code",
   "execution_count": null,
   "id": "454772e8",
   "metadata": {},
   "outputs": [],
   "source": [
    "print(classification_report(y_test, prediction_prob))\n",
    "#Recall up, Precicision down"
   ]
  },
  {
   "cell_type": "code",
   "execution_count": null,
   "id": "6e6737be",
   "metadata": {},
   "outputs": [],
   "source": [
    "#0.2\n",
    "prediction_prob = lr_model.predict_proba(X_test)[:,1]\n",
    "type(prediction_prob)\n",
    "#predictions_threshold = \n",
    "prediction_prob[prediction_prob > 0.2] = 1\n",
    "prediction_prob[prediction_prob <= 0.2] = 0"
   ]
  },
  {
   "cell_type": "code",
   "execution_count": null,
   "id": "8ac134ac",
   "metadata": {},
   "outputs": [],
   "source": [
    "cm = confusion_matrix(y_test, prediction_prob)\n",
    "print('Confusion matrix\\n\\n', cm)"
   ]
  },
  {
   "cell_type": "code",
   "execution_count": null,
   "id": "551a5398",
   "metadata": {},
   "outputs": [],
   "source": [
    "print(classification_report(y_test, prediction_prob))\n",
    "#Recall down, precision up"
   ]
  },
  {
   "cell_type": "code",
   "execution_count": null,
   "id": "2a3e997c",
   "metadata": {},
   "outputs": [],
   "source": [
    "from sklearn.metrics import precision_recall_curve\n",
    "# Generate precision recall curve values: precision, recall, thresholds\n",
    "precision, recall, thresholds = precision_recall_curve(y_test, prediction_prob)\n",
    "\n",
    "# Plot Precision Recall curve\n",
    "plt.plot(precision, recall)\n",
    "plt.xlabel('Recall')\n",
    "plt.ylabel('Precision')\n",
    "plt.title('Precision Recall Curve')\n",
    "plt.show()"
   ]
  },
  {
   "cell_type": "code",
   "execution_count": null,
   "id": "b2b1d085",
   "metadata": {},
   "outputs": [],
   "source": [
    "from sklearn.metrics import roc_curve, auc\n",
    "\n",
    "false_positive_rate, true_positive_rate, thresholds = roc_curve(y_test, prediction_prob)\n",
    "roc_auc = auc(false_positive_rate, true_positive_rate)\n",
    "\n",
    "print(\"AUC - \",format(roc_auc))\n",
    "# Plot Precision Recall curve\n",
    "plt.plot(false_positive_rate, true_positive_rate)\n",
    "plt.xlabel('FPR')\n",
    "plt.ylabel('TPR')\n",
    "plt.title('ROC Curve')\n",
    "plt.show()"
   ]
  },
  {
   "cell_type": "markdown",
   "id": "d89675b9",
   "metadata": {},
   "source": [
    "## Decision Trees"
   ]
  },
  {
   "cell_type": "code",
   "execution_count": null,
   "id": "4182b7f6",
   "metadata": {},
   "outputs": [],
   "source": [
    "#Decision Trees\n",
    "from sklearn.tree import DecisionTreeClassifier, export_text, plot_tree\n",
    "\n"
   ]
  },
  {
   "cell_type": "code",
   "execution_count": null,
   "id": "30ac3d3c",
   "metadata": {},
   "outputs": [],
   "source": [
    "#Instantiate the object\n",
    "ctree = DecisionTreeClassifier(random_state = 0, max_depth = 3)"
   ]
  },
  {
   "cell_type": "code",
   "execution_count": null,
   "id": "ac559849",
   "metadata": {},
   "outputs": [],
   "source": [
    "#Train/fit the model\n",
    "ctree.fit(X_train, y_train)"
   ]
  },
  {
   "cell_type": "code",
   "execution_count": null,
   "id": "cb9378ed",
   "metadata": {},
   "outputs": [],
   "source": [
    "#Get all the rules\n",
    "text_rep = export_text(ctree)\n",
    "print(text_rep)"
   ]
  },
  {
   "cell_type": "code",
   "execution_count": null,
   "id": "15aa2fdf",
   "metadata": {},
   "outputs": [],
   "source": [
    "plt.style.use('seaborn')\n",
    "fig = plt.figure(figsize=(5,3), dpi = 300)\n",
    "_ = plot_tree(ctree, \n",
    "                   feature_names=X.columns,  \n",
    "                   impurity = True,\n",
    "                   class_names=['Not Survived', 'Survived'],\n",
    "                   filled=True, rounded = True)\n",
    "plt.show()"
   ]
  },
  {
   "cell_type": "code",
   "execution_count": null,
   "id": "c6630301",
   "metadata": {},
   "outputs": [],
   "source": [
    "#Predict for test data\n",
    "\n",
    "predictions = ctree.predict(X_test)"
   ]
  },
  {
   "cell_type": "code",
   "execution_count": null,
   "id": "db3b0977",
   "metadata": {},
   "outputs": [],
   "source": [
    "#accuracy score\n",
    "print(accuracy_score(y_test, predictions))"
   ]
  },
  {
   "cell_type": "code",
   "execution_count": null,
   "id": "ec8d8a54",
   "metadata": {},
   "outputs": [],
   "source": [
    "cm = confusion_matrix(y_test, predictions)\n",
    "print('Confusion matrix\\n\\n', cm)"
   ]
  },
  {
   "cell_type": "code",
   "execution_count": null,
   "id": "274cab7e",
   "metadata": {},
   "outputs": [],
   "source": [
    "print(classification_report(y_test, predictions))"
   ]
  },
  {
   "cell_type": "markdown",
   "id": "d61d3bb1",
   "metadata": {},
   "source": [
    "## Full Grown Tree"
   ]
  },
  {
   "cell_type": "code",
   "execution_count": null,
   "id": "ffb7515a",
   "metadata": {},
   "outputs": [],
   "source": [
    "#Instantiate the object\n",
    "fulltree = DecisionTreeClassifier(random_state = 0)"
   ]
  },
  {
   "cell_type": "code",
   "execution_count": null,
   "id": "ba835787",
   "metadata": {},
   "outputs": [],
   "source": [
    "fulltree.fit(X_train, y_train)"
   ]
  },
  {
   "cell_type": "code",
   "execution_count": null,
   "id": "4a7dbc09",
   "metadata": {},
   "outputs": [],
   "source": [
    "plt.style.use('seaborn')\n",
    "fig = plt.figure(figsize=(5,3), dpi = 300)\n",
    "_ = plot_tree(fulltree, \n",
    "                   feature_names=X.columns,  \n",
    "                   impurity = True,\n",
    "                   class_names=['Not Survived', 'Survived'],\n",
    "                   filled=True, rounded = True)\n",
    "plt.show()"
   ]
  },
  {
   "cell_type": "code",
   "execution_count": null,
   "id": "710777e1",
   "metadata": {},
   "outputs": [],
   "source": [
    "#Accuracy on training data\n",
    "\n",
    "train_pred = fulltree.predict(X_train)\n",
    "print(accuracy_score(y_train, train_pred))"
   ]
  },
  {
   "cell_type": "code",
   "execution_count": null,
   "id": "5b0aa745",
   "metadata": {},
   "outputs": [],
   "source": [
    "#predict on test data\n",
    "test_pred = fulltree.predict(X_test)\n",
    "print(accuracy_score(y_test, test_pred))"
   ]
  },
  {
   "cell_type": "markdown",
   "id": "f8e7dadf",
   "metadata": {},
   "source": [
    "## Small Tree"
   ]
  },
  {
   "cell_type": "code",
   "execution_count": null,
   "id": "86b89390",
   "metadata": {},
   "outputs": [],
   "source": [
    "#Instantiate the object\n",
    "smalltree = DecisionTreeClassifier(random_state = 0, max_depth = 2)"
   ]
  },
  {
   "cell_type": "code",
   "execution_count": null,
   "id": "987e60b8",
   "metadata": {},
   "outputs": [],
   "source": [
    "smalltree.fit(X_train, y_train)"
   ]
  },
  {
   "cell_type": "code",
   "execution_count": null,
   "id": "58bd2dab",
   "metadata": {},
   "outputs": [],
   "source": [
    "plt.style.use('seaborn')\n",
    "fig = plt.figure(figsize=(5,3), dpi = 300)\n",
    "_ = plot_tree(smalltree, \n",
    "                   feature_names=X.columns,  \n",
    "                   impurity = True,\n",
    "                   class_names=['Not Survived', 'Survived'],\n",
    "                   filled=True, rounded = True)\n",
    "plt.show()"
   ]
  },
  {
   "cell_type": "code",
   "execution_count": null,
   "id": "dfa502c1",
   "metadata": {},
   "outputs": [],
   "source": [
    "#Accuracy on training data\n",
    "\n",
    "train_pred = smalltree.predict(X_train)\n",
    "print(accuracy_score(y_train, train_pred))"
   ]
  },
  {
   "cell_type": "code",
   "execution_count": null,
   "id": "da4cbbc1",
   "metadata": {},
   "outputs": [],
   "source": [
    "#predict on test data\n",
    "test_pred = smalltree.predict(X_test)\n",
    "print(accuracy_score(y_test, test_pred))"
   ]
  },
  {
   "cell_type": "markdown",
   "id": "c37432d7",
   "metadata": {},
   "source": [
    "## Hyperparameter Tuning Using GridSearchCV"
   ]
  },
  {
   "cell_type": "code",
   "execution_count": null,
   "id": "a67f28ec",
   "metadata": {},
   "outputs": [],
   "source": [
    "from sklearn.model_selection import cross_val_score, GridSearchCV"
   ]
  },
  {
   "cell_type": "code",
   "execution_count": null,
   "id": "9b18e664",
   "metadata": {},
   "outputs": [],
   "source": [
    "#A function to print gridsearch results\n",
    "\n",
    "def print_results(results):\n",
    "    print('BEST PARAMS: {}\\n'.format(results.best_params_))\n",
    "\n",
    "    means = results.cv_results_['mean_test_score']\n",
    "    stds = results.cv_results_['std_test_score']\n",
    "    for mean, std, params in zip(means, stds, results.cv_results_['params']):\n",
    "        print('{} (+/-{}) for {}'.format(round(mean, 3), round(std * 2, 3), params))"
   ]
  },
  {
   "cell_type": "code",
   "execution_count": null,
   "id": "140b4e54",
   "metadata": {},
   "outputs": [],
   "source": [
    "#Start With an initial guess for params\n",
    "param_grid = {\n",
    "    'max_depth':[10, 20, 30, 40],\n",
    "    'min_samples_split': [20, 40, 60, 80],\n",
    "    'min_impurity_decrease':[0, 0.0005, 0.001, 0.005, 0.01],\n",
    "    'criterion':['gini','entropy']\n",
    "}"
   ]
  },
  {
   "cell_type": "code",
   "execution_count": null,
   "id": "79e1436c",
   "metadata": {},
   "outputs": [],
   "source": [
    "gridsearch = GridSearchCV(DecisionTreeClassifier(random_state = 0),\n",
    "                          param_grid,\n",
    "                          cv = 5,\n",
    "                          n_jobs = -1)\n",
    "gridsearch.fit(X_train, y_train)"
   ]
  },
  {
   "cell_type": "code",
   "execution_count": null,
   "id": "2adb39ab",
   "metadata": {},
   "outputs": [],
   "source": [
    "print_results(gridsearch)"
   ]
  },
  {
   "cell_type": "code",
   "execution_count": null,
   "id": "89b1cfaa",
   "metadata": {},
   "outputs": [],
   "source": [
    "print('Initial score:', gridsearch.best_score_)\n",
    "print('Initial score:', gridsearch.best_params_)"
   ]
  },
  {
   "cell_type": "code",
   "execution_count": null,
   "id": "f6fab7e8",
   "metadata": {},
   "outputs": [],
   "source": [
    "#Adopt the hyperparameters\n",
    "param_grid = {\n",
    "    'max_depth':[5, 8, 10, 12],\n",
    "    'min_samples_split': [10, 15, 20, 40],\n",
    "    'min_impurity_decrease':[0.001, 0.005, 0.01],\n",
    "    'criterion':['gini','entropy']\n",
    "}"
   ]
  },
  {
   "cell_type": "code",
   "execution_count": null,
   "id": "d02eba07",
   "metadata": {},
   "outputs": [],
   "source": [
    "gridsearch = GridSearchCV(DecisionTreeClassifier(random_state = 0),\n",
    "                          param_grid,\n",
    "                          cv = 5,\n",
    "                          n_jobs = -1)\n",
    "gridsearch.fit(X_train, y_train)"
   ]
  },
  {
   "cell_type": "code",
   "execution_count": null,
   "id": "8d766caa",
   "metadata": {},
   "outputs": [],
   "source": [
    "print_results(gridsearch)"
   ]
  },
  {
   "cell_type": "code",
   "execution_count": null,
   "id": "8ff99882",
   "metadata": {},
   "outputs": [],
   "source": [
    "print('Final score:', gridsearch.best_score_)\n",
    "print('Final Param:', gridsearch.best_params_)"
   ]
  },
  {
   "cell_type": "code",
   "execution_count": null,
   "id": "f81d34f7",
   "metadata": {},
   "outputs": [],
   "source": [
    "#Take teh best estimator\n",
    "bestCtree = gridsearch.best_estimator_"
   ]
  },
  {
   "cell_type": "code",
   "execution_count": null,
   "id": "74ef1b77",
   "metadata": {},
   "outputs": [],
   "source": [
    "predictions = bestCtree.predict(X_test)"
   ]
  },
  {
   "cell_type": "code",
   "execution_count": null,
   "id": "432747f2",
   "metadata": {},
   "outputs": [],
   "source": [
    "print(accuracy_score(y_test, predictions))"
   ]
  },
  {
   "cell_type": "code",
   "execution_count": null,
   "id": "5fd5cece",
   "metadata": {},
   "outputs": [],
   "source": [
    "cm = confusion_matrix(y_test,predictions)\n",
    "print(cm)"
   ]
  },
  {
   "cell_type": "code",
   "execution_count": null,
   "id": "d4bb14b6",
   "metadata": {},
   "outputs": [],
   "source": [
    "print(classification_report(y_test, predictions))"
   ]
  },
  {
   "cell_type": "code",
   "execution_count": null,
   "id": "78a5ce9a",
   "metadata": {},
   "outputs": [],
   "source": [
    "plt.style.use('seaborn')\n",
    "fig = plt.figure(figsize=(5,5), dpi = 300)\n",
    "_ = plot_tree(bestCtree, \n",
    "                   feature_names=X.columns,  \n",
    "                   impurity = True,\n",
    "                   class_names=['Not Survived', 'Survived'],\n",
    "                   filled=True, rounded = True)\n",
    "plt.show()"
   ]
  },
  {
   "cell_type": "markdown",
   "id": "3c492ea2",
   "metadata": {},
   "source": [
    "## Post - Pruning (Cost complexity parameter)"
   ]
  },
  {
   "cell_type": "code",
   "execution_count": null,
   "id": "e786293d",
   "metadata": {},
   "outputs": [],
   "source": [
    "#CCP\n",
    "param_grid = {\n",
    "    \"ccp_alpha\" : [0.001, 0.005, 0.01, 0.05, 0.1]\n",
    "}\n",
    "\n",
    "gridsearch = GridSearchCV(DecisionTreeClassifier(random_state = 0),\n",
    "                          param_grid,\n",
    "                          cv = 5,\n",
    "                          n_jobs = -1)\n",
    "\n",
    "gridsearch.fit(X_train, y_train)"
   ]
  },
  {
   "cell_type": "code",
   "execution_count": null,
   "id": "31387611",
   "metadata": {},
   "outputs": [],
   "source": [
    "print_results(gridsearch)"
   ]
  },
  {
   "cell_type": "code",
   "execution_count": null,
   "id": "1881619e",
   "metadata": {},
   "outputs": [],
   "source": [
    "print('Final score:', gridsearch.best_score_)\n",
    "print('Final Param:', gridsearch.best_params_)"
   ]
  },
  {
   "cell_type": "code",
   "execution_count": null,
   "id": "14707c30",
   "metadata": {},
   "outputs": [],
   "source": [
    "bestCtree_cp =gridsearch.best_estimator_"
   ]
  },
  {
   "cell_type": "code",
   "execution_count": null,
   "id": "896a76b1",
   "metadata": {},
   "outputs": [],
   "source": [
    "predictions = bestCtree_cp.predict(X_test)"
   ]
  },
  {
   "cell_type": "code",
   "execution_count": null,
   "id": "6c100c67",
   "metadata": {},
   "outputs": [],
   "source": [
    "print(accuracy_score(y_test, predictions))"
   ]
  },
  {
   "cell_type": "code",
   "execution_count": null,
   "id": "d032e458",
   "metadata": {},
   "outputs": [],
   "source": [
    "plt.style.use('seaborn')\n",
    "fig = plt.figure(figsize=(5,5), dpi = 300)\n",
    "_ = plot_tree(bestCtree_cp, \n",
    "                   feature_names=X.columns,  \n",
    "                   impurity = True,\n",
    "                   class_names=['Not Survived', 'Survived'],\n",
    "                   filled=True, rounded = True)\n",
    "plt.show()"
   ]
  },
  {
   "cell_type": "code",
   "execution_count": null,
   "id": "1b83a928",
   "metadata": {},
   "outputs": [],
   "source": []
  }
 ],
 "metadata": {
  "kernelspec": {
   "display_name": "Python 3 (ipykernel)",
   "language": "python",
   "name": "python3"
  },
  "language_info": {
   "codemirror_mode": {
    "name": "ipython",
    "version": 3
   },
   "file_extension": ".py",
   "mimetype": "text/x-python",
   "name": "python",
   "nbconvert_exporter": "python",
   "pygments_lexer": "ipython3",
   "version": "3.9.13"
  }
 },
 "nbformat": 4,
 "nbformat_minor": 5
}
